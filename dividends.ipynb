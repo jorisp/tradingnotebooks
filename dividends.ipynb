{
 "cells": [
  {
   "cell_type": "code",
   "execution_count": 2,
   "metadata": {},
   "outputs": [],
   "source": [
    "import yfinance as yf\n",
    "import pandas as pd\n",
    "import matplotlib.pyplot as plt\n",
    "from datetime import date,timedelta,datetime\n",
    "import datetime as dt"
   ]
  },
  {
   "cell_type": "code",
   "execution_count": 3,
   "metadata": {},
   "outputs": [
    {
     "name": "stdout",
     "output_type": "stream",
     "text": [
      "0.2.61\n"
     ]
    }
   ],
   "source": [
    "print(yf.__version__)"
   ]
  },
  {
   "cell_type": "markdown",
   "metadata": {},
   "source": [
    "## Telenor ASA returns"
   ]
  },
  {
   "cell_type": "code",
   "execution_count": null,
   "metadata": {},
   "outputs": [
    {
     "data": {
      "application/vnd.microsoft.datawrangler.viewer.v0+json": {
       "columns": [
        {
         "name": "Date",
         "rawType": "datetime64[ns, Europe/Oslo]",
         "type": "unknown"
        },
        {
         "name": "Open",
         "rawType": "float64",
         "type": "float"
        },
        {
         "name": "High",
         "rawType": "float64",
         "type": "float"
        },
        {
         "name": "Low",
         "rawType": "float64",
         "type": "float"
        },
        {
         "name": "Close",
         "rawType": "float64",
         "type": "float"
        },
        {
         "name": "Adj Close",
         "rawType": "float64",
         "type": "float"
        },
        {
         "name": "Volume",
         "rawType": "int64",
         "type": "integer"
        },
        {
         "name": "Dividends",
         "rawType": "float64",
         "type": "float"
        },
        {
         "name": "Stock Splits",
         "rawType": "float64",
         "type": "float"
        }
       ],
       "ref": "e0b4e419-8824-46b9-89c5-73c2d2dd3ac4",
       "rows": [
        [
         "2025-07-30 00:00:00+02:00",
         "158.5",
         "159.3000030517578",
         "157.60000610351562",
         "158.39999389648438",
         "158.39999389648438",
         "833628",
         "0.0",
         "0.0"
        ],
        [
         "2025-07-31 00:00:00+02:00",
         "158.60000610351562",
         "159.60000610351562",
         "158.39999389648438",
         "158.6999969482422",
         "158.6999969482422",
         "764575",
         "0.0",
         "0.0"
        ],
        [
         "2025-08-01 00:00:00+02:00",
         "158.6999969482422",
         "161.1999969482422",
         "158.60000610351562",
         "161.10000610351562",
         "161.10000610351562",
         "758225",
         "0.0",
         "0.0"
        ],
        [
         "2025-08-04 00:00:00+02:00",
         "161.3000030517578",
         "164.10000610351562",
         "161.3000030517578",
         "164.10000610351562",
         "164.10000610351562",
         "960265",
         "0.0",
         "0.0"
        ],
        [
         "2025-08-05 00:00:00+02:00",
         "164.39999389648438",
         "164.6999969482422",
         "161.6999969482422",
         "162.1999969482422",
         "162.1999969482422",
         "1029110",
         "0.0",
         "0.0"
        ]
       ],
       "shape": {
        "columns": 8,
        "rows": 5
       }
      },
      "text/html": [
       "<div>\n",
       "<style scoped>\n",
       "    .dataframe tbody tr th:only-of-type {\n",
       "        vertical-align: middle;\n",
       "    }\n",
       "\n",
       "    .dataframe tbody tr th {\n",
       "        vertical-align: top;\n",
       "    }\n",
       "\n",
       "    .dataframe thead th {\n",
       "        text-align: right;\n",
       "    }\n",
       "</style>\n",
       "<table border=\"1\" class=\"dataframe\">\n",
       "  <thead>\n",
       "    <tr style=\"text-align: right;\">\n",
       "      <th></th>\n",
       "      <th>Open</th>\n",
       "      <th>High</th>\n",
       "      <th>Low</th>\n",
       "      <th>Close</th>\n",
       "      <th>Adj Close</th>\n",
       "      <th>Volume</th>\n",
       "      <th>Dividends</th>\n",
       "      <th>Stock Splits</th>\n",
       "    </tr>\n",
       "    <tr>\n",
       "      <th>Date</th>\n",
       "      <th></th>\n",
       "      <th></th>\n",
       "      <th></th>\n",
       "      <th></th>\n",
       "      <th></th>\n",
       "      <th></th>\n",
       "      <th></th>\n",
       "      <th></th>\n",
       "    </tr>\n",
       "  </thead>\n",
       "  <tbody>\n",
       "    <tr>\n",
       "      <th>2025-07-30 00:00:00+02:00</th>\n",
       "      <td>158.500000</td>\n",
       "      <td>159.300003</td>\n",
       "      <td>157.600006</td>\n",
       "      <td>158.399994</td>\n",
       "      <td>158.399994</td>\n",
       "      <td>833628</td>\n",
       "      <td>0.0</td>\n",
       "      <td>0.0</td>\n",
       "    </tr>\n",
       "    <tr>\n",
       "      <th>2025-07-31 00:00:00+02:00</th>\n",
       "      <td>158.600006</td>\n",
       "      <td>159.600006</td>\n",
       "      <td>158.399994</td>\n",
       "      <td>158.699997</td>\n",
       "      <td>158.699997</td>\n",
       "      <td>764575</td>\n",
       "      <td>0.0</td>\n",
       "      <td>0.0</td>\n",
       "    </tr>\n",
       "    <tr>\n",
       "      <th>2025-08-01 00:00:00+02:00</th>\n",
       "      <td>158.699997</td>\n",
       "      <td>161.199997</td>\n",
       "      <td>158.600006</td>\n",
       "      <td>161.100006</td>\n",
       "      <td>161.100006</td>\n",
       "      <td>758225</td>\n",
       "      <td>0.0</td>\n",
       "      <td>0.0</td>\n",
       "    </tr>\n",
       "    <tr>\n",
       "      <th>2025-08-04 00:00:00+02:00</th>\n",
       "      <td>161.300003</td>\n",
       "      <td>164.100006</td>\n",
       "      <td>161.300003</td>\n",
       "      <td>164.100006</td>\n",
       "      <td>164.100006</td>\n",
       "      <td>960265</td>\n",
       "      <td>0.0</td>\n",
       "      <td>0.0</td>\n",
       "    </tr>\n",
       "    <tr>\n",
       "      <th>2025-08-05 00:00:00+02:00</th>\n",
       "      <td>164.399994</td>\n",
       "      <td>164.699997</td>\n",
       "      <td>161.699997</td>\n",
       "      <td>162.199997</td>\n",
       "      <td>162.199997</td>\n",
       "      <td>1029110</td>\n",
       "      <td>0.0</td>\n",
       "      <td>0.0</td>\n",
       "    </tr>\n",
       "  </tbody>\n",
       "</table>\n",
       "</div>"
      ],
      "text/plain": [
       "                                 Open        High         Low       Close  \\\n",
       "Date                                                                        \n",
       "2025-07-30 00:00:00+02:00  158.500000  159.300003  157.600006  158.399994   \n",
       "2025-07-31 00:00:00+02:00  158.600006  159.600006  158.399994  158.699997   \n",
       "2025-08-01 00:00:00+02:00  158.699997  161.199997  158.600006  161.100006   \n",
       "2025-08-04 00:00:00+02:00  161.300003  164.100006  161.300003  164.100006   \n",
       "2025-08-05 00:00:00+02:00  164.399994  164.699997  161.699997  162.199997   \n",
       "\n",
       "                            Adj Close   Volume  Dividends  Stock Splits  \n",
       "Date                                                                     \n",
       "2025-07-30 00:00:00+02:00  158.399994   833628        0.0           0.0  \n",
       "2025-07-31 00:00:00+02:00  158.699997   764575        0.0           0.0  \n",
       "2025-08-01 00:00:00+02:00  161.100006   758225        0.0           0.0  \n",
       "2025-08-04 00:00:00+02:00  164.100006   960265        0.0           0.0  \n",
       "2025-08-05 00:00:00+02:00  162.199997  1029110        0.0           0.0  "
      ]
     },
     "execution_count": 11,
     "metadata": {},
     "output_type": "execute_result"
    }
   ],
   "source": [
    "startdate =  dt.datetime(2013,1,1)\n",
    "shortcode = 'TEL.OL' \n",
    "ticker = yf.Ticker(ticker=shortcode)\n",
    "# The parameter auto_adjust=False means that the prices are not adjusted for dividends and stock splits.\n",
    "# You get the raw prices as they were at the time of the trade.\n",
    "# If you set auto_adjust=True, the prices will be adjusted to reflect the impact of dividends and stock splits,\n",
    "# which is useful for calculating returns over time.\n",
    "# With auto_adjust=False, you can separately analyze the effect of corporate actions using the actions=True parameter, which adds columns for dividends and splits.\n",
    "df = ticker.history(start=startdate, interval=\"1d\",auto_adjust=False, actions=True)\n",
    "df.tail()"
   ]
  },
  {
   "cell_type": "code",
   "execution_count": 12,
   "metadata": {},
   "outputs": [
    {
     "data": {
      "application/vnd.microsoft.datawrangler.viewer.v0+json": {
       "columns": [
        {
         "name": "index",
         "rawType": "object",
         "type": "string"
        },
        {
         "name": "Close",
         "rawType": "float64",
         "type": "float"
        }
       ],
       "ref": "c3a17daf-e800-4265-ae0b-eaf7269f192e",
       "rows": [
        [
         "count",
         "3159.0"
        ],
        [
         "mean",
         "143.7569674026668"
        ],
        [
         "std",
         "20.760395871287265"
        ],
        [
         "min",
         "87.68000030517578"
        ],
        [
         "25%",
         "129.5"
        ],
        [
         "50%",
         "142.8000030517578"
        ],
        [
         "75%",
         "158.2750015258789"
        ],
        [
         "max",
         "191.0"
        ]
       ],
       "shape": {
        "columns": 1,
        "rows": 8
       }
      },
      "text/plain": [
       "count    3159.000000\n",
       "mean      143.756967\n",
       "std        20.760396\n",
       "min        87.680000\n",
       "25%       129.500000\n",
       "50%       142.800003\n",
       "75%       158.275002\n",
       "max       191.000000\n",
       "Name: Close, dtype: float64"
      ]
     },
     "execution_count": 12,
     "metadata": {},
     "output_type": "execute_result"
    }
   ],
   "source": [
    "df['Close'].describe( )"
   ]
  },
  {
   "cell_type": "code",
   "execution_count": 13,
   "metadata": {},
   "outputs": [
    {
     "data": {
      "image/png": "[encoded data removed]",
      "text/plain": [
       "<Figure size 1200x800 with 2 Axes>"
      ]
     },
     "metadata": {},
     "output_type": "display_data"
    }
   ],
   "source": [
    "prices=df['Close']\n",
    "volumes=df['Volume']\n",
    "\n",
    "top = plt.subplot2grid((4,4), (0, 0), rowspan=3, colspan=4)\n",
    "top.plot(prices.index,prices,label='Last')\n",
    "\n",
    "plt.title= 'Telenor Prices and Volume 2013-2025'\n",
    "plt.legend(loc=2)\n",
    "\n",
    "bottom = plt.subplot2grid((4,4), (3,0), rowspan=1, colspan=4)\n",
    "bottom.bar(volumes.index,volumes)\n",
    "plt.title='AB INBEV trading volume'\n",
    "\n",
    "plt.gcf().set_size_inches(12,8)\n",
    "plt.subplots_adjust(hspace=0.75)"
   ]
  },
  {
   "cell_type": "markdown",
   "metadata": {},
   "source": [
    "## Dividend payout history for Telenor ASA  "
   ]
  },
  {
   "cell_type": "code",
   "execution_count": 4,
   "metadata": {},
   "outputs": [],
   "source": [
    "# Get the ticker for Telenor ASA on the Oslo Stock Exchange\n",
    "tck= yf.Ticker('TEL.OL')\n",
    "\n",
    "start_date = \"2013-01-01\"  \n",
    "df= tck.dividends[start_date:].to_frame()"
   ]
  },
  {
   "cell_type": "code",
   "execution_count": null,
   "metadata": {},
   "outputs": [],
   "source": [
    "prices = [] \n",
    "\n",
    "for index,row in df.iterrows():\n",
    "    tckdate = datetime.strptime(str(index),'%Y-%m-%d %H:%M:%S%z').date()\n",
    "    try:\n",
    "        price = tck.history(start=tckdate,interval='1d')['Close'][0]\n",
    "    except:\n",
    "        price = None\n",
    "    prices.append(price)    \n",
    "\n",
    "df['Price'] = prices\n",
    "df['DividendYield'] = (df['Dividends'] / df['Price']).round(2) * 100\n"
   ]
  },
  {
   "cell_type": "code",
   "execution_count": 9,
   "metadata": {},
   "outputs": [
    {
     "data": {
      "application/vnd.microsoft.datawrangler.viewer.v0+json": {
       "columns": [
        {
         "name": "Date",
         "rawType": "datetime64[ns, Europe/Oslo]",
         "type": "unknown"
        },
        {
         "name": "Dividends",
         "rawType": "float64",
         "type": "float"
        },
        {
         "name": "Price",
         "rawType": "float64",
         "type": "float"
        },
        {
         "name": "DividendYield",
         "rawType": "float64",
         "type": "float"
        }
       ],
       "ref": "b7973b99-bea9-4fd9-8e81-8bc966ca670b",
       "rows": [
        [
         "2013-05-16 00:00:00+02:00",
         "6.0",
         "63.92708969116211",
         "9.0"
        ],
        [
         "2014-05-15 00:00:00+02:00",
         "7.0",
         "75.00761413574219",
         "9.0"
        ],
        [
         "2015-05-21 00:00:00+02:00",
         "3.8",
         "94.48440551757812",
         "4.0"
        ],
        [
         "2015-11-02 00:00:00+01:00",
         "3.5",
         "87.90715026855469",
         "4.0"
        ],
        [
         "2016-05-12 00:00:00+02:00",
         "4.0",
         "75.97403717041016",
         "5.0"
        ],
        [
         "2016-10-28 00:00:00+02:00",
         "3.5",
         "76.35386657714844",
         "5.0"
        ],
        [
         "2017-05-11 00:00:00+02:00",
         "4.3",
         "80.17597961425781",
         "5.0"
        ],
        [
         "2017-10-27 00:00:00+02:00",
         "3.5",
         "105.4530258178711",
         "3.0"
        ],
        [
         "2018-05-03 00:00:00+02:00",
         "4.2",
         "109.04423522949219",
         "4.0"
        ],
        [
         "2018-10-18 00:00:00+02:00",
         "3.9",
         "96.57555389404297",
         "4.0"
        ],
        [
         "2019-05-08 00:00:00+02:00",
         "4.4",
         "115.24446868896484",
         "4.0"
        ],
        [
         "2019-10-10 00:00:00+02:00",
         "4.0",
         "121.47220611572266",
         "3.0"
        ],
        [
         "2020-05-12 00:00:00+02:00",
         "4.4",
         "102.13574981689453",
         "4.0"
        ],
        [
         "2020-10-08 00:00:00+02:00",
         "4.3",
         "110.29360961914062",
         "4.0"
        ],
        [
         "2021-05-28 00:00:00+02:00",
         "5.0",
         "107.64830017089844",
         "5.0"
        ],
        [
         "2021-10-07 00:00:00+02:00",
         "4.0",
         "105.74320983886719",
         "4.0"
        ],
        [
         "2022-05-12 00:00:00+02:00",
         "5.0",
         "99.54251861572266",
         "5.0"
        ],
        [
         "2022-10-06 00:00:00+02:00",
         "4.3",
         "78.84469604492188",
         "5.0"
        ],
        [
         "2023-05-11 00:00:00+02:00",
         "5.0",
         "106.83636474609375",
         "5.0"
        ],
        [
         "2023-10-19 00:00:00+02:00",
         "4.4",
         "103.7391357421875",
         "4.0"
        ],
        [
         "2024-05-08 00:00:00+02:00",
         "5.0",
         "117.1683120727539",
         "4.0"
        ],
        [
         "2024-10-17 00:00:00+02:00",
         "4.5",
         "128.61073303222656",
         "3.0"
        ],
        [
         "2025-05-22 00:00:00+02:00",
         "5.0",
         "153.8000030517578",
         "3.0"
        ]
       ],
       "shape": {
        "columns": 3,
        "rows": 23
       }
      },
      "text/html": [
       "<div>\n",
       "<style scoped>\n",
       "    .dataframe tbody tr th:only-of-type {\n",
       "        vertical-align: middle;\n",
       "    }\n",
       "\n",
       "    .dataframe tbody tr th {\n",
       "        vertical-align: top;\n",
       "    }\n",
       "\n",
       "    .dataframe thead th {\n",
       "        text-align: right;\n",
       "    }\n",
       "</style>\n",
       "<table border=\"1\" class=\"dataframe\">\n",
       "  <thead>\n",
       "    <tr style=\"text-align: right;\">\n",
       "      <th></th>\n",
       "      <th>Dividends</th>\n",
       "      <th>Price</th>\n",
       "      <th>DividendYield</th>\n",
       "    </tr>\n",
       "    <tr>\n",
       "      <th>Date</th>\n",
       "      <th></th>\n",
       "      <th></th>\n",
       "      <th></th>\n",
       "    </tr>\n",
       "  </thead>\n",
       "  <tbody>\n",
       "    <tr>\n",
       "      <th>2013-05-16 00:00:00+02:00</th>\n",
       "      <td>6.0</td>\n",
       "      <td>63.927090</td>\n",
       "      <td>9.0</td>\n",
       "    </tr>\n",
       "    <tr>\n",
       "      <th>2014-05-15 00:00:00+02:00</th>\n",
       "      <td>7.0</td>\n",
       "      <td>75.007614</td>\n",
       "      <td>9.0</td>\n",
       "    </tr>\n",
       "    <tr>\n",
       "      <th>2015-05-21 00:00:00+02:00</th>\n",
       "      <td>3.8</td>\n",
       "      <td>94.484406</td>\n",
       "      <td>4.0</td>\n",
       "    </tr>\n",
       "    <tr>\n",
       "      <th>2015-11-02 00:00:00+01:00</th>\n",
       "      <td>3.5</td>\n",
       "      <td>87.907150</td>\n",
       "      <td>4.0</td>\n",
       "    </tr>\n",
       "    <tr>\n",
       "      <th>2016-05-12 00:00:00+02:00</th>\n",
       "      <td>4.0</td>\n",
       "      <td>75.974037</td>\n",
       "      <td>5.0</td>\n",
       "    </tr>\n",
       "    <tr>\n",
       "      <th>2016-10-28 00:00:00+02:00</th>\n",
       "      <td>3.5</td>\n",
       "      <td>76.353867</td>\n",
       "      <td>5.0</td>\n",
       "    </tr>\n",
       "    <tr>\n",
       "      <th>2017-05-11 00:00:00+02:00</th>\n",
       "      <td>4.3</td>\n",
       "      <td>80.175980</td>\n",
       "      <td>5.0</td>\n",
       "    </tr>\n",
       "    <tr>\n",
       "      <th>2017-10-27 00:00:00+02:00</th>\n",
       "      <td>3.5</td>\n",
       "      <td>105.453026</td>\n",
       "      <td>3.0</td>\n",
       "    </tr>\n",
       "    <tr>\n",
       "      <th>2018-05-03 00:00:00+02:00</th>\n",
       "      <td>4.2</td>\n",
       "      <td>109.044235</td>\n",
       "      <td>4.0</td>\n",
       "    </tr>\n",
       "    <tr>\n",
       "      <th>2018-10-18 00:00:00+02:00</th>\n",
       "      <td>3.9</td>\n",
       "      <td>96.575554</td>\n",
       "      <td>4.0</td>\n",
       "    </tr>\n",
       "    <tr>\n",
       "      <th>2019-05-08 00:00:00+02:00</th>\n",
       "      <td>4.4</td>\n",
       "      <td>115.244469</td>\n",
       "      <td>4.0</td>\n",
       "    </tr>\n",
       "    <tr>\n",
       "      <th>2019-10-10 00:00:00+02:00</th>\n",
       "      <td>4.0</td>\n",
       "      <td>121.472206</td>\n",
       "      <td>3.0</td>\n",
       "    </tr>\n",
       "    <tr>\n",
       "      <th>2020-05-12 00:00:00+02:00</th>\n",
       "      <td>4.4</td>\n",
       "      <td>102.135750</td>\n",
       "      <td>4.0</td>\n",
       "    </tr>\n",
       "    <tr>\n",
       "      <th>2020-10-08 00:00:00+02:00</th>\n",
       "      <td>4.3</td>\n",
       "      <td>110.293610</td>\n",
       "      <td>4.0</td>\n",
       "    </tr>\n",
       "    <tr>\n",
       "      <th>2021-05-28 00:00:00+02:00</th>\n",
       "      <td>5.0</td>\n",
       "      <td>107.648300</td>\n",
       "      <td>5.0</td>\n",
       "    </tr>\n",
       "    <tr>\n",
       "      <th>2021-10-07 00:00:00+02:00</th>\n",
       "      <td>4.0</td>\n",
       "      <td>105.743210</td>\n",
       "      <td>4.0</td>\n",
       "    </tr>\n",
       "    <tr>\n",
       "      <th>2022-05-12 00:00:00+02:00</th>\n",
       "      <td>5.0</td>\n",
       "      <td>99.542519</td>\n",
       "      <td>5.0</td>\n",
       "    </tr>\n",
       "    <tr>\n",
       "      <th>2022-10-06 00:00:00+02:00</th>\n",
       "      <td>4.3</td>\n",
       "      <td>78.844696</td>\n",
       "      <td>5.0</td>\n",
       "    </tr>\n",
       "    <tr>\n",
       "      <th>2023-05-11 00:00:00+02:00</th>\n",
       "      <td>5.0</td>\n",
       "      <td>106.836365</td>\n",
       "      <td>5.0</td>\n",
       "    </tr>\n",
       "    <tr>\n",
       "      <th>2023-10-19 00:00:00+02:00</th>\n",
       "      <td>4.4</td>\n",
       "      <td>103.739136</td>\n",
       "      <td>4.0</td>\n",
       "    </tr>\n",
       "    <tr>\n",
       "      <th>2024-05-08 00:00:00+02:00</th>\n",
       "      <td>5.0</td>\n",
       "      <td>117.168312</td>\n",
       "      <td>4.0</td>\n",
       "    </tr>\n",
       "    <tr>\n",
       "      <th>2024-10-17 00:00:00+02:00</th>\n",
       "      <td>4.5</td>\n",
       "      <td>128.610733</td>\n",
       "      <td>3.0</td>\n",
       "    </tr>\n",
       "    <tr>\n",
       "      <th>2025-05-22 00:00:00+02:00</th>\n",
       "      <td>5.0</td>\n",
       "      <td>153.800003</td>\n",
       "      <td>3.0</td>\n",
       "    </tr>\n",
       "  </tbody>\n",
       "</table>\n",
       "</div>"
      ],
      "text/plain": [
       "                           Dividends       Price  DividendYield\n",
       "Date                                                           \n",
       "2013-05-16 00:00:00+02:00        6.0   63.927090            9.0\n",
       "2014-05-15 00:00:00+02:00        7.0   75.007614            9.0\n",
       "2015-05-21 00:00:00+02:00        3.8   94.484406            4.0\n",
       "2015-11-02 00:00:00+01:00        3.5   87.907150            4.0\n",
       "2016-05-12 00:00:00+02:00        4.0   75.974037            5.0\n",
       "2016-10-28 00:00:00+02:00        3.5   76.353867            5.0\n",
       "2017-05-11 00:00:00+02:00        4.3   80.175980            5.0\n",
       "2017-10-27 00:00:00+02:00        3.5  105.453026            3.0\n",
       "2018-05-03 00:00:00+02:00        4.2  109.044235            4.0\n",
       "2018-10-18 00:00:00+02:00        3.9   96.575554            4.0\n",
       "2019-05-08 00:00:00+02:00        4.4  115.244469            4.0\n",
       "2019-10-10 00:00:00+02:00        4.0  121.472206            3.0\n",
       "2020-05-12 00:00:00+02:00        4.4  102.135750            4.0\n",
       "2020-10-08 00:00:00+02:00        4.3  110.293610            4.0\n",
       "2021-05-28 00:00:00+02:00        5.0  107.648300            5.0\n",
       "2021-10-07 00:00:00+02:00        4.0  105.743210            4.0\n",
       "2022-05-12 00:00:00+02:00        5.0   99.542519            5.0\n",
       "2022-10-06 00:00:00+02:00        4.3   78.844696            5.0\n",
       "2023-05-11 00:00:00+02:00        5.0  106.836365            5.0\n",
       "2023-10-19 00:00:00+02:00        4.4  103.739136            4.0\n",
       "2024-05-08 00:00:00+02:00        5.0  117.168312            4.0\n",
       "2024-10-17 00:00:00+02:00        4.5  128.610733            3.0\n",
       "2025-05-22 00:00:00+02:00        5.0  153.800003            3.0"
      ]
     },
     "execution_count": 9,
     "metadata": {},
     "output_type": "execute_result"
    }
   ],
   "source": [
    "df"
   ]
  },
  {
   "cell_type": "code",
   "execution_count": 7,
   "metadata": {},
   "outputs": [],
   "source": [
    "r_df= df.resample('Y').agg('sum')"
   ]
  },
  {
   "cell_type": "code",
   "execution_count": 13,
   "metadata": {},
   "outputs": [
    {
     "data": {
      "image/png": "[encoded data removed]",
      "text/plain": [
       "<Figure size 1500x1200 with 1 Axes>"
      ]
     },
     "metadata": {},
     "output_type": "display_data"
    },
    {
     "name": "stdout",
     "output_type": "stream",
     "text": [
      "Total gross dividends 103.0 \n"
     ]
    }
   ],
   "source": [
    "columns = r_df.columns\n",
    "#print(f'The columns in the DataFrame are: {columns}')\n",
    "r_df['Year'] = r_df.index.year\n",
    "rf_df = r_df[r_df['Year'] > 2005 ]\n",
    "\n",
    "plt.figure(figsize=(15,12))\n",
    "bars= plt.bar(rf_df['Year'], rf_df['Dividends'])\n",
    "plt.xticks(rf_df['Year'])\n",
    "plt.title(\"Annual gross dividends Telenor per year and the dividend yield\")  \n",
    "\n",
    "# Add value labels on top of the bars\n",
    "#for bar in bars:\n",
    "#    yval = bar.get_height()\n",
    "#    plt.text(bar.get_x() + bar.get_width()/2, yval, f'{yval:.2f}', ha='center', va='bottom')    \n",
    "#plt.show()\n",
    "\n",
    "# Add both gross dividend and dividend yield as labels\n",
    "for bar, (_, row) in zip(bars, rf_df.iterrows()):\n",
    "    yval = bar.get_height()\n",
    "    yield_val = row['DividendYield']\n",
    "    label = f\"{yval:.2f}\\n{yield_val:.2f}%\"\n",
    "    plt.text(bar.get_x() + bar.get_width()/2, yval, label, ha='center', va='bottom')\n",
    "\n",
    "plt.show()\n",
    "\n",
    "totaldiv = rf_df['Dividends'].sum()\n",
    "\n",
    "print(f\"Total gross dividends {totaldiv} \")"
   ]
  },
  {
   "cell_type": "markdown",
   "metadata": {},
   "source": [
    "Dividends from shares are taxed in Belgium. This tax is called the witholding tax (WHT) and is currently 30% in Belgium (July 2025). Foreign dividends are subject to double taxation, meaning that they are both taxed in the country of origin and again in Belgium. Even when a witholding tax (WHT) has already been applied abroad - the net dividend received is again taxed at a flat rate of 30%.\n",
    "\n",
    "In Norway the witholding tax is 25%, so the 103 NOK gross dividend taxed leaves 75 NOK which is again taxed at 30% in Belgium, resulting in just 46.35 EUR NOK income.\n",
    "\n",
    "Although double tax treaties exist to mitigate this burden for some countries, they often fail to eliminate it entirely, and Belgian residents must actively claim any foreign tax credits. The reclaiming of foreign tax credits is a cumbersome administrative process and not all brokers are able to assist you with this."
   ]
  }
 ],
 "metadata": {
  "kernelspec": {
   "display_name": "trading",
   "language": "python",
   "name": "python3"
  },
  "language_info": {
   "codemirror_mode": {
    "name": "ipython",
    "version": 3
   },
   "file_extension": ".py",
   "mimetype": "text/x-python",
   "name": "python",
   "nbconvert_exporter": "python",
   "pygments_lexer": "ipython3",
   "version": "3.10.15"
  }
 },
 "nbformat": 4,
 "nbformat_minor": 2
}
