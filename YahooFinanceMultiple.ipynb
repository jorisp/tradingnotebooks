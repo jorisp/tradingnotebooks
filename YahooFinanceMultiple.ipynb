{
 "cells": [
  {
   "cell_type": "code",
   "execution_count": 1,
   "metadata": {},
   "outputs": [],
   "source": [
    "import pandas as pd\n",
    "import pandas_datareader.data as web\n",
    "import datetime as dt"
   ]
  },
  {
   "cell_type": "code",
   "execution_count": 2,
   "metadata": {},
   "outputs": [],
   "source": [
    "def GetYahooData(tickers, startdate):\n",
    "    def data(ticker):\n",
    "            return web.DataReader(ticker,'yahoo',start=startdate)\n",
    "    datas = map(data,tickers)\n",
    "    return(pd.concat(datas,keys=tickers, names=['Ticker','Date']))"
   ]
  },
  {
   "cell_type": "code",
   "execution_count": 3,
   "metadata": {},
   "outputs": [],
   "source": [
    "start =  dt.datetime(2000,1,1)\n",
    "tickersbigtech = ['GOOG','AAPL','FB','MSFT']\n",
    "tickersbel20 =['ABI.BR','ACKB.BR','AED.BR','AGS.BR','APAM.AS','ARGX.BR','COFB.BR','COLR.BR','DIE.BR','ELI.BR','GLPG.AS',\n",
    "'GBLB.BR','KBC.BR','PROX.BR','SOF.BR','SOLB.BR','UCB.BR','UMI.BR','VGP.BR','WDP.BR']\n",
    "\n",
    "data = GetYahooData(tickers=tickersbigtech,startdate=start)\n",
    "#data = GetYahooData(tickers=tickersbel20,startdate=start)"
   ]
  },
  {
   "cell_type": "code",
   "execution_count": 4,
   "metadata": {},
   "outputs": [
    {
     "data": {
      "text/html": [
       "<div>\n",
       "<style scoped>\n",
       "    .dataframe tbody tr th:only-of-type {\n",
       "        vertical-align: middle;\n",
       "    }\n",
       "\n",
       "    .dataframe tbody tr th {\n",
       "        vertical-align: top;\n",
       "    }\n",
       "\n",
       "    .dataframe thead th {\n",
       "        text-align: right;\n",
       "    }\n",
       "</style>\n",
       "<table border=\"1\" class=\"dataframe\">\n",
       "  <thead>\n",
       "    <tr style=\"text-align: right;\">\n",
       "      <th></th>\n",
       "      <th></th>\n",
       "      <th>High</th>\n",
       "      <th>Low</th>\n",
       "      <th>Open</th>\n",
       "      <th>Close</th>\n",
       "      <th>Volume</th>\n",
       "      <th>Adj Close</th>\n",
       "    </tr>\n",
       "    <tr>\n",
       "      <th>Ticker</th>\n",
       "      <th>Date</th>\n",
       "      <th></th>\n",
       "      <th></th>\n",
       "      <th></th>\n",
       "      <th></th>\n",
       "      <th></th>\n",
       "      <th></th>\n",
       "    </tr>\n",
       "  </thead>\n",
       "  <tbody>\n",
       "    <tr>\n",
       "      <th rowspan=\"5\" valign=\"top\">GOOG</th>\n",
       "      <th>2004-08-19</th>\n",
       "      <td>2.591785</td>\n",
       "      <td>2.390042</td>\n",
       "      <td>2.490664</td>\n",
       "      <td>2.499133</td>\n",
       "      <td>897427216.0</td>\n",
       "      <td>2.499133</td>\n",
       "    </tr>\n",
       "    <tr>\n",
       "      <th>2004-08-20</th>\n",
       "      <td>2.716817</td>\n",
       "      <td>2.503118</td>\n",
       "      <td>2.515820</td>\n",
       "      <td>2.697639</td>\n",
       "      <td>458857488.0</td>\n",
       "      <td>2.697639</td>\n",
       "    </tr>\n",
       "    <tr>\n",
       "      <th>2004-08-23</th>\n",
       "      <td>2.826406</td>\n",
       "      <td>2.716070</td>\n",
       "      <td>2.758411</td>\n",
       "      <td>2.724787</td>\n",
       "      <td>366857939.0</td>\n",
       "      <td>2.724787</td>\n",
       "    </tr>\n",
       "    <tr>\n",
       "      <th>2004-08-24</th>\n",
       "      <td>2.779581</td>\n",
       "      <td>2.579581</td>\n",
       "      <td>2.770615</td>\n",
       "      <td>2.611960</td>\n",
       "      <td>306396159.0</td>\n",
       "      <td>2.611960</td>\n",
       "    </tr>\n",
       "    <tr>\n",
       "      <th>2004-08-25</th>\n",
       "      <td>2.689918</td>\n",
       "      <td>2.587302</td>\n",
       "      <td>2.614201</td>\n",
       "      <td>2.640104</td>\n",
       "      <td>184645512.0</td>\n",
       "      <td>2.640104</td>\n",
       "    </tr>\n",
       "  </tbody>\n",
       "</table>\n",
       "</div>"
      ],
      "text/plain": [
       "                       High       Low      Open     Close       Volume  \\\n",
       "Ticker Date                                                              \n",
       "GOOG   2004-08-19  2.591785  2.390042  2.490664  2.499133  897427216.0   \n",
       "       2004-08-20  2.716817  2.503118  2.515820  2.697639  458857488.0   \n",
       "       2004-08-23  2.826406  2.716070  2.758411  2.724787  366857939.0   \n",
       "       2004-08-24  2.779581  2.579581  2.770615  2.611960  306396159.0   \n",
       "       2004-08-25  2.689918  2.587302  2.614201  2.640104  184645512.0   \n",
       "\n",
       "                   Adj Close  \n",
       "Ticker Date                   \n",
       "GOOG   2004-08-19   2.499133  \n",
       "       2004-08-20   2.697639  \n",
       "       2004-08-23   2.724787  \n",
       "       2004-08-24   2.611960  \n",
       "       2004-08-25   2.640104  "
      ]
     },
     "execution_count": 4,
     "metadata": {},
     "output_type": "execute_result"
    }
   ],
   "source": [
    "data.head(5)"
   ]
  },
  {
   "cell_type": "code",
   "execution_count": 5,
   "metadata": {},
   "outputs": [],
   "source": [
    "#data.to_csv(\"bigtech.csv\")\n",
    "data.to_csv(\"bel20.csv\")"
   ]
  }
 ],
 "metadata": {
  "interpreter": {
   "hash": "2d20fb8764baf2aed4f7e5be6a308e4f46097fc8cf6a471609d37d794e1984d8"
  },
  "kernelspec": {
   "display_name": "Python 3.9.7 ('trading')",
   "language": "python",
   "name": "python3"
  },
  "language_info": {
   "codemirror_mode": {
    "name": "ipython",
    "version": 3
   },
   "file_extension": ".py",
   "mimetype": "text/x-python",
   "name": "python",
   "nbconvert_exporter": "python",
   "pygments_lexer": "ipython3",
   "version": "3.9.7"
  }
 },
 "nbformat": 4,
 "nbformat_minor": 2
}
