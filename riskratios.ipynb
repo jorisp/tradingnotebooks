{
 "cells": [
  {
   "cell_type": "code",
   "execution_count": 1,
   "metadata": {},
   "outputs": [],
   "source": [
    "import datetime as dt\n",
    "import numpy as np \n",
    "import pandas as pd \n",
    "import matplotlib.pyplot as plt "
   ]
  },
  {
   "cell_type": "code",
   "execution_count": 2,
   "metadata": {},
   "outputs": [
    {
     "name": "stdout",
     "output_type": "stream",
     "text": [
      "<class 'pandas.core.frame.DataFrame'>\n",
      "DatetimeIndex: 1258 entries, 2016-10-07 to 2021-10-06\n",
      "Data columns (total 6 columns):\n",
      "Open         1257 non-null float64\n",
      "High         1257 non-null float64\n",
      "Low          1257 non-null float64\n",
      "Close        1257 non-null float64\n",
      "Adj Close    1257 non-null float64\n",
      "Volume       1257 non-null float64\n",
      "dtypes: float64(6)\n",
      "memory usage: 68.8 KB\n"
     ]
    },
    {
     "data": {
      "text/html": [
       "<div>\n",
       "<style scoped>\n",
       "    .dataframe tbody tr th:only-of-type {\n",
       "        vertical-align: middle;\n",
       "    }\n",
       "\n",
       "    .dataframe tbody tr th {\n",
       "        vertical-align: top;\n",
       "    }\n",
       "\n",
       "    .dataframe thead th {\n",
       "        text-align: right;\n",
       "    }\n",
       "</style>\n",
       "<table border=\"1\" class=\"dataframe\">\n",
       "  <thead>\n",
       "    <tr style=\"text-align: right;\">\n",
       "      <th></th>\n",
       "      <th>Close</th>\n",
       "    </tr>\n",
       "    <tr>\n",
       "      <th>Date</th>\n",
       "      <th></th>\n",
       "    </tr>\n",
       "  </thead>\n",
       "  <tbody>\n",
       "    <tr>\n",
       "      <td>2021-10-05</td>\n",
       "      <td>4.948624</td>\n",
       "    </tr>\n",
       "  </tbody>\n",
       "</table>\n",
       "</div>"
      ],
      "text/plain": [
       "               Close\n",
       "Date                \n",
       "2021-10-05  4.948624"
      ]
     },
     "execution_count": 2,
     "metadata": {},
     "output_type": "execute_result"
    },
    {
     "data": {
      "image/png": "[encoded data removed]",
      "text/plain": [
       "<Figure size 432x288 with 1 Axes>"
      ]
     },
     "metadata": {
      "needs_background": "light"
     },
     "output_type": "display_data"
    }
   ],
   "source": [
    "#CSV contains 5Y of data\n",
    "raw = pd.read_csv('data/AAPL.csv',index_col=0,parse_dates=True)\n",
    "raw.info()\n",
    "data = (pd.DataFrame(raw['Close']).dropna())\n",
    "datapct = data.pct_change().dropna()\n",
    "(datapct+1).cumprod().plot()\n",
    "(datapct+1).cumprod()[-1:]"
   ]
  },
  {
   "cell_type": "markdown",
   "metadata": {},
   "source": [
    "# Sharpe Ratio\n",
    "The Sharpe ratio is the most common ratio for comparing return to risk (standard deviation).\n",
    "\n",
    "Sharpe = $(R_a -R_f)/$ $\\sigma$\n",
    "\n",
    "$R_a$ = Annual return of the asset  \n",
    "$R_f$ = Annual risk-free rate. \n"
   ]
  },
  {
   "cell_type": "code",
   "execution_count": 3,
   "metadata": {},
   "outputs": [],
   "source": [
    "def sharpe_ratio(return_series,N,rf):\n",
    "    mean = return_series.mean()*N -rf\n",
    "    sigma = return_series.std()*np.sqrt(N)\n",
    "    return mean/sigma"
   ]
  },
  {
   "cell_type": "code",
   "execution_count": 4,
   "metadata": {},
   "outputs": [
    {
     "data": {
      "text/plain": [
       "Close    1.187104\n",
       "dtype: float64"
      ]
     },
     "execution_count": 4,
     "metadata": {},
     "output_type": "execute_result"
    }
   ],
   "source": [
    "N= 255 #255 trading days in a year\n",
    "rf= 0.01 #1% risk free rate\n",
    "sharpe = datapct.apply(sharpe_ratio,args=(N,rf))\n",
    "sharpe"
   ]
  },
  {
   "cell_type": "markdown",
   "metadata": {},
   "source": [
    "# Sortino Ratio\n",
    "The Sortino ratio is similar to the Sharpe ration, but it only looks at negative deviations, since they represent potential losses.\n",
    "\n",
    "Sortino = $(R_a -R_f)/$ $\\sigma^-$\n",
    "\n",
    "$R_a$ = Annual return of the asset  \n",
    "$R_f$ = Annual risk-free rate.  \n",
    "$\\sigma^-$ = annualized down-side standard deviation "
   ]
  },
  {
   "cell_type": "code",
   "execution_count": 5,
   "metadata": {},
   "outputs": [
    {
     "data": {
      "text/plain": [
       "Close    1.560987\n",
       "dtype: float64"
      ]
     },
     "execution_count": 5,
     "metadata": {},
     "output_type": "execute_result"
    }
   ],
   "source": [
    "def sortino_ratio(return_series,N,rf):\n",
    "    mean = return_series.mean()*N-rf\n",
    "    std_neg = return_series[return_series<0].std()*np.sqrt(N)\n",
    "    return mean/std_neg\n",
    "\n",
    "N= 255 #255 trading days in a year\n",
    "rf= 0.01 #1% risk free rate\n",
    "sortino = datapct.apply(sortino_ratio,args=(N,rf))\n",
    "sortino "
   ]
  },
  {
   "cell_type": "markdown",
   "metadata": {},
   "source": [
    "# Drawdown"
   ]
  },
  {
   "cell_type": "code",
   "execution_count": 6,
   "metadata": {},
   "outputs": [
    {
     "name": "stdout",
     "output_type": "stream",
     "text": [
      "<class 'pandas.core.frame.DataFrame'>\n",
      "DatetimeIndex: 5360 entries, 2000-12-01 to 2021-10-07\n",
      "Data columns (total 6 columns):\n",
      "Open         5328 non-null float64\n",
      "High         5328 non-null float64\n",
      "Low          5328 non-null float64\n",
      "Close        5328 non-null float64\n",
      "Adj Close    5328 non-null float64\n",
      "Volume       5328 non-null float64\n",
      "dtypes: float64(6)\n",
      "memory usage: 293.1 KB\n"
     ]
    },
    {
     "data": {
      "text/html": [
       "<div>\n",
       "<style scoped>\n",
       "    .dataframe tbody tr th:only-of-type {\n",
       "        vertical-align: middle;\n",
       "    }\n",
       "\n",
       "    .dataframe tbody tr th {\n",
       "        vertical-align: top;\n",
       "    }\n",
       "\n",
       "    .dataframe thead th {\n",
       "        text-align: right;\n",
       "    }\n",
       "</style>\n",
       "<table border=\"1\" class=\"dataframe\">\n",
       "  <thead>\n",
       "    <tr style=\"text-align: right;\">\n",
       "      <th></th>\n",
       "      <th>Close</th>\n",
       "    </tr>\n",
       "    <tr>\n",
       "      <th>Date</th>\n",
       "      <th></th>\n",
       "    </tr>\n",
       "  </thead>\n",
       "  <tbody>\n",
       "    <tr>\n",
       "      <td>2021-10-07</td>\n",
       "      <td>2.176437</td>\n",
       "    </tr>\n",
       "  </tbody>\n",
       "</table>\n",
       "</div>"
      ],
      "text/plain": [
       "               Close\n",
       "Date                \n",
       "2021-10-07  2.176437"
      ]
     },
     "execution_count": 6,
     "metadata": {},
     "output_type": "execute_result"
    },
    {
     "data": {
      "image/png": "[encoded data removed]",
      "text/plain": [
       "<Figure size 432x288 with 1 Axes>"
      ]
     },
     "metadata": {
      "needs_background": "light"
     },
     "output_type": "display_data"
    }
   ],
   "source": [
    "#Read data for AB INBEV\n",
    "raw = pd.read_csv('data/ABI.BR.csv',index_col=0,parse_dates=True)\n",
    "raw.info()\n",
    "data = (pd.DataFrame(raw['Close']).dropna())\n",
    "datapct = data.pct_change().dropna()\n",
    "(datapct+1).cumprod().plot()\n",
    "(datapct+1).cumprod()[-1:]"
   ]
  },
  {
   "cell_type": "code",
   "execution_count": 7,
   "metadata": {},
   "outputs": [
    {
     "data": {
      "text/plain": [
       "Close   -0.753621\n",
       "dtype: float64"
      ]
     },
     "execution_count": 7,
     "metadata": {},
     "output_type": "execute_result"
    },
    {
     "data": {
      "image/png": "[encoded data removed]",
      "text/plain": [
       "<Figure size 432x288 with 1 Axes>"
      ]
     },
     "metadata": {
      "needs_background": "light"
     },
     "output_type": "display_data"
    }
   ],
   "source": [
    "def max_drawdown(return_series):\n",
    "    comp_ret = (return_series + 1).cumprod()\n",
    "    peak = comp_ret.expanding(min_periods=1).max()\n",
    "    dd = (comp_ret/peak)-1\n",
    "    return dd.min()\n",
    "\n",
    "\n",
    "max_drawdowns = datapct.apply(max_drawdown,axis=0)\n",
    "max_drawdowns.plot.bar()\n",
    "plt.ylabel('Max drawdown')\n",
    "max_drawdowns \n"
   ]
  },
  {
   "cell_type": "markdown",
   "metadata": {},
   "source": [
    "# Calmar Ratio\n",
    "\n",
    "Calmar = $R_a/$ max drawdown\n",
    "\n",
    "$R_a$ = Annual return of the asset  "
   ]
  },
  {
   "cell_type": "code",
   "execution_count": 8,
   "metadata": {},
   "outputs": [
    {
     "data": {
      "text/plain": [
       "Close   -0.000444\n",
       "dtype: float64"
      ]
     },
     "execution_count": 8,
     "metadata": {},
     "output_type": "execute_result"
    }
   ],
   "source": [
    "datapct.mean()/max_drawdowns"
   ]
  }
 ],
 "metadata": {
  "interpreter": {
   "hash": "b3ba2566441a7c06988d0923437866b63cedc61552a5af99d1f4fb67d367b25f"
  },
  "kernelspec": {
   "display_name": "Python 3.7.4 64-bit ('base': conda)",
   "name": "python3"
  },
  "language_info": {
   "codemirror_mode": {
    "name": "ipython",
    "version": 3
   },
   "file_extension": ".py",
   "mimetype": "text/x-python",
   "name": "python",
   "nbconvert_exporter": "python",
   "pygments_lexer": "ipython3",
   "version": "3.7.4"
  },
  "orig_nbformat": 4
 },
 "nbformat": 4,
 "nbformat_minor": 2
}
