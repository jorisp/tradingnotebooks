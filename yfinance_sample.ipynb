{
 "cells": [
  {
   "cell_type": "code",
   "execution_count": 1,
   "metadata": {},
   "outputs": [
    {
     "name": "stdout",
     "output_type": "stream",
     "text": [
      "0.1.74\n"
     ]
    }
   ],
   "source": [
    "import yfinance as yf\n",
    "print (yf.__version__)"
   ]
  },
  {
   "cell_type": "code",
   "execution_count": 2,
   "metadata": {},
   "outputs": [
    {
     "name": "stdout",
     "output_type": "stream",
     "text": [
      "<class 'pandas.core.frame.DataFrame'>\n",
      "DatetimeIndex: 2516 entries, 2012-07-23 to 2022-07-21\n",
      "Data columns (total 7 columns):\n",
      " #   Column        Non-Null Count  Dtype  \n",
      "---  ------        --------------  -----  \n",
      " 0   Open          2516 non-null   float64\n",
      " 1   High          2516 non-null   float64\n",
      " 2   Low           2516 non-null   float64\n",
      " 3   Close         2516 non-null   float64\n",
      " 4   Volume        2516 non-null   int64  \n",
      " 5   Dividends     2516 non-null   float64\n",
      " 6   Stock Splits  2516 non-null   float64\n",
      "dtypes: float64(6), int64(1)\n",
      "memory usage: 157.2 KB\n"
     ]
    }
   ],
   "source": [
    "#https://github.com/ranaroussi/yfinance\n",
    "#all documentation on a single page https://pypi.org/project/yfinance/\n",
    "aapl = yf.Ticker(\"AAPL\")\n",
    "aapl_historical = aapl.history(start=\"2020-06-02\", end=\"2021-10-08\", interval=\"1d\")\n",
    "aapl_historical.head(5)\n",
    "\n",
    "#gets all data of last 10y\n",
    "aapl_10y = aapl.history(period=\"10y\")\n",
    "aapl_10y.info()\n",
    "\n",
    "aapl_10y.index.rename('Tickerdate',inplace=True)\n",
    "aapl_10y.insert(0,'Ticker','AAPL')\n",
    "aapl_10y.to_csv(\"aapl_10y.csv\")"
   ]
  },
  {
   "cell_type": "code",
   "execution_count": null,
   "metadata": {},
   "outputs": [],
   "source": [
    "#gets all data since for S&P 500\n",
    "#sp500ticker = yf.Ticker('^GSPC')\n",
    "#sp500full = sp500ticker.history(period='max')\n",
    "#sp500full.to_csv(\"sp500.csv\")"
   ]
  },
  {
   "cell_type": "code",
   "execution_count": 15,
   "metadata": {},
   "outputs": [],
   "source": [
    "#Download data for multiple tickers, default interval 1d\n",
    "#data = yf.download(\"AMZN AAPL GOOG\", start=\"2019-01-01\", end=\"2022-06-14\")\n",
    "#data"
   ]
  },
  {
   "cell_type": "code",
   "execution_count": 16,
   "metadata": {},
   "outputs": [],
   "source": [
    "#data = yf.download(\"AMZN AAPL GOOG\", start = \"2019-01-01\", end=\"2021-09-29\", group_by=\"ticker\")\n",
    "#data"
   ]
  },
  {
   "cell_type": "code",
   "execution_count": 17,
   "metadata": {},
   "outputs": [],
   "source": [
    "#aapl.info\n",
    "#aapl.recommendations\n",
    "#aapl.calendar"
   ]
  }
 ],
 "metadata": {
  "kernelspec": {
   "display_name": "Python 3.9.7 ('demo1')",
   "language": "python",
   "name": "python3"
  },
  "language_info": {
   "codemirror_mode": {
    "name": "ipython",
    "version": 3
   },
   "file_extension": ".py",
   "mimetype": "text/x-python",
   "name": "python",
   "nbconvert_exporter": "python",
   "pygments_lexer": "ipython3",
   "version": "3.9.12"
  },
  "orig_nbformat": 4,
  "vscode": {
   "interpreter": {
    "hash": "05f11cb2356e8afe689e857960d6e25f2732d64b70f20f557948d2a1ba02c2b4"
   }
  }
 },
 "nbformat": 4,
 "nbformat_minor": 2
}
