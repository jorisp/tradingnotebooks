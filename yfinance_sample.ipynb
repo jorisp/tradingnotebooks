{
 "cells": [
  {
   "cell_type": "code",
   "execution_count": 1,
   "metadata": {},
   "outputs": [
    {
     "name": "stdout",
     "output_type": "stream",
     "text": [
      "0.1.74\n"
     ]
    }
   ],
   "source": [
    "import yfinance as yf\n",
    "import pandas as pd\n",
    "print (yf.__version__)"
   ]
  },
  {
   "cell_type": "code",
   "execution_count": 73,
   "metadata": {},
   "outputs": [
    {
     "name": "stdout",
     "output_type": "stream",
     "text": [
      "Apple Inc. quote type:EQUITY, currentPrice: 169.24, currency: USD sector:Technology, industry:Consumer Electronics, marketCap: 2719822381056, forwardEps: 6.44, trailingEps: 6.05\n",
      "CPU times: total: 359 ms\n",
      "Wall time: 4.15 s\n"
     ]
    }
   ],
   "source": [
    "%%time\n",
    "#https://github.com/ranaroussi/yfinance\n",
    "#all documentation on a single page https://pypi.org/project/yfinance/\n",
    "aapl = yf.Ticker(\"AAPL\")\n",
    "\n",
    "#info is a dictionary object - a collection of key-value pairs where each key is associated with a value\n",
    "#for item in aapl.info:\n",
    "#    print(item)\n",
    "\n",
    "shortName = aapl.info['shortName']\n",
    "currentPrice = aapl.info['currentPrice']\n",
    "quoteType = aapl.info['quoteType']\n",
    "currency = aapl.info['currency']\n",
    "sector = aapl.info['sector']\n",
    "industry = aapl.info['industry']\n",
    "marketCap = aapl.info['marketCap']\n",
    "forwardEps = aapl.info['forwardEps']\n",
    "trailingEps = aapl.info['trailingEps']\n",
    "print(f\"{shortName} quote type:{quoteType}, currentPrice: {currentPrice}, currency: {currency}, sector:{sector}, industry:{industry}, marketCap: {marketCap}, forwardEps: {forwardEps}, trailingEps: {trailingEps}\")\n"
   ]
  },
  {
   "cell_type": "markdown",
   "metadata": {},
   "source": [
    "### Retrieving info for multiple tickers"
   ]
  },
  {
   "cell_type": "code",
   "execution_count": 64,
   "metadata": {},
   "outputs": [
    {
     "name": "stdout",
     "output_type": "stream",
     "text": [
      "Apple Inc. - quote type:EQUITY - isin: US0378331005 - forward EPS: 6.44 - trailing EPS 6.05\n",
      "iShares V PLC - iShares MSCI ACWI UCITS ETF USD (Acc) - quote type:ETF  marketCap None\n",
      "S&P 500 - quote type:INDEX  marketCap None\n",
      "KBC Eco Fund - Water Cap - quote type:MUTUALFUND  marketCap None\n"
     ]
    }
   ],
   "source": [
    "portfolio = yf.Tickers(\"AAPL SSAC.L ^GSPC 0P00000NAY.F\")\n",
    "for item in portfolio.tickers:\n",
    "        quoteType = portfolio.tickers[item].info['quoteType']\n",
    "        # isin is experimental feature in yfinance ISIN = International Securities Identification Number\n",
    "        # but you can search in Yahoo Finance with an ISIN code\n",
    "        isin = portfolio.tickers[item].isin\n",
    "        marketCap = portfolio.tickers[item].info['marketCap']\n",
    "        if quoteType == \"EQUITY\":\n",
    "                forwardEps = portfolio.tickers[item].info['forwardEps']\n",
    "                trailingEps = portfolio.tickers[item].info['trailingEps']\n",
    "        else:\n",
    "                forwardEps = None\n",
    "                trailingEps = None\n",
    "        if quoteType == \"ETF\":\n",
    "                fullName = portfolio.tickers[item].info['longName']\n",
    "        else:\n",
    "                fullName = portfolio.tickers[item].info['shortName']\n",
    "\n",
    "        if quoteType == \"EQUITY\":\n",
    "                print(f\"{fullName} - quote type:{quoteType} - isin: {isin} - forward EPS: {forwardEps} - trailing EPS {trailingEps}\")\n",
    "        else:\n",
    "                print(f\"{fullName} - quote type:{quoteType}\")    \n"
   ]
  },
  {
   "cell_type": "code",
   "execution_count": 3,
   "metadata": {},
   "outputs": [],
   "source": [
    "#Tip: quick way to convert this data into a dataframe and output to csv\n",
    "#Create a list of dictionaries in which each row corresponds to a row in a dataframe\n",
    "#Create a dataframe from this list\n",
    "rows_list = []\n",
    "portfolio = yf.Tickers(\"AAPL SSAC.L ^GSPC 0P00000NAY.F\")\n",
    "for item in portfolio.tickers:\n",
    "    rows_list.append(portfolio.tickers[item].info)\n",
    "df = pd.DataFrame(rows_list)\n",
    "df.head(5)\n",
    "df.to_csv(\"tickersmetadata.csv\")"
   ]
  },
  {
   "cell_type": "markdown",
   "metadata": {},
   "source": [
    "### Other financial data with yfinance"
   ]
  },
  {
   "cell_type": "code",
   "execution_count": 65,
   "metadata": {},
   "outputs": [
    {
     "data": {
      "text/plain": [
       "\n",
       "2021-09-25    365817000000.0\n",
       "2020-09-26    274515000000.0\n",
       "2019-09-28    260174000000.0\n",
       "2018-09-29    265595000000.0\n",
       "Name: Total Revenue, dtype: object"
      ]
     },
     "execution_count": 65,
     "metadata": {},
     "output_type": "execute_result"
    }
   ],
   "source": [
    "#aapl.financials - returns a dataframe with financials\n",
    "aapl.financials.loc[\"Total Revenue\"]\n",
    "#aapl.recommendations\n",
    "#aapl.calendar"
   ]
  },
  {
   "cell_type": "markdown",
   "metadata": {},
   "source": [
    "### Ticker data code samples"
   ]
  },
  {
   "cell_type": "code",
   "execution_count": 66,
   "metadata": {},
   "outputs": [
    {
     "name": "stdout",
     "output_type": "stream",
     "text": [
      "<class 'pandas.core.frame.DataFrame'>\n",
      "DatetimeIndex: 2515 entries, 2012-08-13 to 2022-08-10\n",
      "Data columns (total 7 columns):\n",
      " #   Column        Non-Null Count  Dtype  \n",
      "---  ------        --------------  -----  \n",
      " 0   Open          2515 non-null   float64\n",
      " 1   High          2515 non-null   float64\n",
      " 2   Low           2515 non-null   float64\n",
      " 3   Close         2515 non-null   float64\n",
      " 4   Volume        2515 non-null   int64  \n",
      " 5   Dividends     2515 non-null   float64\n",
      " 6   Stock Splits  2515 non-null   float64\n",
      "dtypes: float64(6), int64(1)\n",
      "memory usage: 157.2 KB\n"
     ]
    }
   ],
   "source": [
    "aapl = yf.Ticker(\"AAPL\")\n",
    "aapl_historical = aapl.history(start=\"2020-06-02\", end=\"2021-10-08\", interval=\"1d\")\n",
    "aapl_historical.head(5)\n",
    "\n",
    "#gets all data of last 10y\n",
    "aapl_10y = aapl.history(period=\"10y\")\n",
    "aapl_10y.info()\n",
    "\n",
    "aapl_10y.index.rename('Tickerdate',inplace=True)\n",
    "aapl_10y.insert(0,'Ticker','AAPL')\n",
    "aapl_10y.to_csv(\"aapl_10y.csv\")"
   ]
  },
  {
   "cell_type": "code",
   "execution_count": 67,
   "metadata": {},
   "outputs": [],
   "source": [
    "#gets all data since for S&P 500\n",
    "#sp500ticker = yf.Ticker('^GSPC')\n",
    "#sp500full = sp500ticker.history(period='max')\n",
    "#sp500full.to_csv(\"sp500.csv\")"
   ]
  },
  {
   "cell_type": "code",
   "execution_count": 68,
   "metadata": {},
   "outputs": [],
   "source": [
    "#Download data for multiple tickers, default interval 1d\n",
    "#data = yf.download(\"AMZN AAPL GOOG\", start=\"2019-01-01\", end=\"2022-06-14\")\n",
    "#data"
   ]
  },
  {
   "cell_type": "code",
   "execution_count": 69,
   "metadata": {},
   "outputs": [],
   "source": [
    "#data = yf.download(\"AMZN AAPL GOOG\", start = \"2019-01-01\", end=\"2021-09-29\", group_by=\"ticker\")\n",
    "#data"
   ]
  },
  {
   "cell_type": "code",
   "execution_count": 70,
   "metadata": {},
   "outputs": [],
   "source": []
  }
 ],
 "metadata": {
  "kernelspec": {
   "display_name": "Python 3.9.7 ('demo1')",
   "language": "python",
   "name": "python3"
  },
  "language_info": {
   "codemirror_mode": {
    "name": "ipython",
    "version": 3
   },
   "file_extension": ".py",
   "mimetype": "text/x-python",
   "name": "python",
   "nbconvert_exporter": "python",
   "pygments_lexer": "ipython3",
   "version": "3.9.12"
  },
  "orig_nbformat": 4,
  "vscode": {
   "interpreter": {
    "hash": "05f11cb2356e8afe689e857960d6e25f2732d64b70f20f557948d2a1ba02c2b4"
   }
  }
 },
 "nbformat": 4,
 "nbformat_minor": 2
}
