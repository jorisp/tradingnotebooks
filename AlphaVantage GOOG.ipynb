{
 "cells": [
  {
   "cell_type": "code",
   "execution_count": 23,
   "metadata": {},
   "outputs": [],
   "source": [
    "from alpha_vantage.timeseries import TimeSeries\n",
    "import dotenv\n",
    "import requests\n",
    "import os"
   ]
  },
  {
   "cell_type": "markdown",
   "metadata": {},
   "source": [
    "# How to use secrets in Jupyter Notebooks with python-dotenv\n",
    "\n",
    "See  [link to blog post](https://jopx.blogspot.com/2020/07/how-to-use-secrets-in-jupyter-notebooks.html)"
   ]
  },
  {
   "cell_type": "code",
   "execution_count": 24,
   "metadata": {},
   "outputs": [
    {
     "name": "stdout",
     "output_type": "stream",
     "text": [
      "The dotenv extension is already loaded. To reload it, use:\n",
      "  %reload_ext dotenv\n"
     ]
    }
   ],
   "source": [
    "%load_ext dotenv\n",
    "%dotenv\n",
    "\n",
    "\n",
    "key= os.getenv('SECRET')"
   ]
  },
  {
   "cell_type": "markdown",
   "metadata": {},
   "source": [
    "# Using Alphavantage\n",
    "\n",
    "For documentation see https://www.alphavantage.co/documentation/ - in this example the alpha_vantage python library is used as well as HTPP request to the Alphavantage endpoint to retrieve data about Alphabet (Google). You can request a free API key which is limited to  5 API requests per minute or 500 API requests per day. Alphavantage has monthly plans for higher limits. \n",
    "\n",
    "**Important:** Alphavantage does not support European stocks\n"
   ]
  },
  {
   "cell_type": "code",
   "execution_count": null,
   "metadata": {},
   "outputs": [],
   "source": [
    "ts = TimeSeries(key, output_format='pandas')\n",
    "\n",
    "#Documentation see https://www.alphavantage.co/documentation/ \n",
    "#outputsize=compact/full - default is compact, only retrieves the latest 100 data points\n",
    "data, meta = ts.get_daily(symbol='GOOG',outputsize='full')\n",
    "\n",
    "data['datetime'] = data.index\n",
    "\n",
    "print(data.loc['2020-03-12'])"
   ]
  },
  {
   "cell_type": "code",
   "execution_count": 12,
   "metadata": {},
   "outputs": [
    {
     "data": {
      "text/plain": [
       "(1899, 6)"
      ]
     },
     "execution_count": 12,
     "metadata": {},
     "output_type": "execute_result"
    }
   ],
   "source": [
    "data.shape"
   ]
  },
  {
   "cell_type": "code",
   "execution_count": 13,
   "metadata": {},
   "outputs": [
    {
     "data": {
      "text/plain": [
       "{'1. Information': 'Daily Prices (open, high, low, close) and Volumes',\n",
       " '2. Symbol': 'GOOG',\n",
       " '3. Last Refreshed': '2021-10-08',\n",
       " '4. Output Size': 'Full size',\n",
       " '5. Time Zone': 'US/Eastern'}"
      ]
     },
     "execution_count": 13,
     "metadata": {},
     "output_type": "execute_result"
    }
   ],
   "source": [
    "meta"
   ]
  },
  {
   "cell_type": "code",
   "execution_count": 14,
   "metadata": {},
   "outputs": [
    {
     "data": {
      "text/html": [
       "<div>\n",
       "<style scoped>\n",
       "    .dataframe tbody tr th:only-of-type {\n",
       "        vertical-align: middle;\n",
       "    }\n",
       "\n",
       "    .dataframe tbody tr th {\n",
       "        vertical-align: top;\n",
       "    }\n",
       "\n",
       "    .dataframe thead th {\n",
       "        text-align: right;\n",
       "    }\n",
       "</style>\n",
       "<table border=\"1\" class=\"dataframe\">\n",
       "  <thead>\n",
       "    <tr style=\"text-align: right;\">\n",
       "      <th></th>\n",
       "      <th>1. open</th>\n",
       "      <th>2. high</th>\n",
       "      <th>3. low</th>\n",
       "      <th>4. close</th>\n",
       "      <th>5. volume</th>\n",
       "      <th>datetime</th>\n",
       "    </tr>\n",
       "    <tr>\n",
       "      <th>date</th>\n",
       "      <th></th>\n",
       "      <th></th>\n",
       "      <th></th>\n",
       "      <th></th>\n",
       "      <th></th>\n",
       "      <th></th>\n",
       "    </tr>\n",
       "  </thead>\n",
       "  <tbody>\n",
       "    <tr>\n",
       "      <th>2021-10-08</th>\n",
       "      <td>2798.12</td>\n",
       "      <td>2806.3400</td>\n",
       "      <td>2788.5868</td>\n",
       "      <td>2801.12</td>\n",
       "      <td>946421.0</td>\n",
       "      <td>2021-10-08</td>\n",
       "    </tr>\n",
       "    <tr>\n",
       "      <th>2021-10-07</th>\n",
       "      <td>2777.26</td>\n",
       "      <td>2803.0891</td>\n",
       "      <td>2771.2600</td>\n",
       "      <td>2783.71</td>\n",
       "      <td>912523.0</td>\n",
       "      <td>2021-10-07</td>\n",
       "    </tr>\n",
       "    <tr>\n",
       "      <th>2021-10-06</th>\n",
       "      <td>2692.51</td>\n",
       "      <td>2757.0400</td>\n",
       "      <td>2689.7300</td>\n",
       "      <td>2747.08</td>\n",
       "      <td>988216.0</td>\n",
       "      <td>2021-10-06</td>\n",
       "    </tr>\n",
       "    <tr>\n",
       "      <th>2021-10-05</th>\n",
       "      <td>2680.00</td>\n",
       "      <td>2747.2400</td>\n",
       "      <td>2680.0000</td>\n",
       "      <td>2723.54</td>\n",
       "      <td>1206337.0</td>\n",
       "      <td>2021-10-05</td>\n",
       "    </tr>\n",
       "    <tr>\n",
       "      <th>2021-10-04</th>\n",
       "      <td>2713.99</td>\n",
       "      <td>2714.0000</td>\n",
       "      <td>2623.3300</td>\n",
       "      <td>2675.30</td>\n",
       "      <td>1576495.0</td>\n",
       "      <td>2021-10-04</td>\n",
       "    </tr>\n",
       "  </tbody>\n",
       "</table>\n",
       "</div>"
      ],
      "text/plain": [
       "            1. open    2. high     3. low  4. close  5. volume   datetime\n",
       "date                                                                     \n",
       "2021-10-08  2798.12  2806.3400  2788.5868   2801.12   946421.0 2021-10-08\n",
       "2021-10-07  2777.26  2803.0891  2771.2600   2783.71   912523.0 2021-10-07\n",
       "2021-10-06  2692.51  2757.0400  2689.7300   2747.08   988216.0 2021-10-06\n",
       "2021-10-05  2680.00  2747.2400  2680.0000   2723.54  1206337.0 2021-10-05\n",
       "2021-10-04  2713.99  2714.0000  2623.3300   2675.30  1576495.0 2021-10-04"
      ]
     },
     "execution_count": 14,
     "metadata": {},
     "output_type": "execute_result"
    }
   ],
   "source": [
    "data.head()"
   ]
  },
  {
   "cell_type": "code",
   "execution_count": 15,
   "metadata": {},
   "outputs": [
    {
     "name": "stdout",
     "output_type": "stream",
     "text": [
      "{'Symbol': 'GOOG', 'AssetType': 'Common Stock', 'Name': 'Alphabet Inc', 'Description': \"Alphabet Inc. is an American multinational conglomerate headquartered in Mountain View, California. It was created through a restructuring of Google on October 2, 2015, and became the parent company of Google and several former Google subsidiaries. The two co-founders of Google remained as controlling shareholders, board members, and employees at Alphabet. Alphabet is the world's fourth-largest technology company by revenue and one of the world's most valuable companies.\", 'CIK': '1652044', 'Exchange': 'NASDAQ', 'Currency': 'USD', 'Country': 'USA', 'Sector': 'TECHNOLOGY', 'Industry': 'SERVICES-COMPUTER PROGRAMMING, DATA PROCESSING, ETC.', 'Address': '1600 AMPHITHEATRE PARKWAY, MOUNTAIN VIEW, CA, US', 'FiscalYearEnd': 'December', 'LatestQuarter': '2021-06-30', 'MarketCapitalization': '1867248435000', 'EBITDA': '75552997000', 'PERatio': '30.37', 'PEGRatio': '1.352', 'BookValue': '355.83', 'DividendPerShare': 'None', 'DividendYield': '0', 'EPS': '92.19', 'RevenuePerShareTTM': '326.66', 'ProfitMargin': '0.286', 'OperatingMarginTTM': '0.284', 'ReturnOnAssetsTTM': '0.128', 'ReturnOnEquityTTM': '0.283', 'RevenueTTM': '220265005000', 'GrossProfitTTM': '97795000000', 'DilutedEPSTTM': '92.19', 'QuarterlyEarningsGrowthYOY': '1.691', 'QuarterlyRevenueGrowthYOY': '0.616', 'AnalystTargetPrice': '3106.11', 'TrailingPE': '30.37', 'ForwardPE': '25.91', 'PriceToSalesRatioTTM': '8.48', 'PriceToBookRatio': '7.64', 'EVToRevenue': '7.75', 'EVToEBITDA': '19.29', 'Beta': '1.026', '52WeekHigh': '2936.41', '52WeekLow': '1514.62', '50DayMovingAverage': '2823.92', '200DayMovingAverage': '2547.85', 'SharesOutstanding': '320168000', 'SharesFloat': '580750000', 'SharesShort': '2636700', 'SharesShortPriorMonth': '2439800', 'ShortRatio': '2.79', 'ShortPercentOutstanding': '0', 'ShortPercentFloat': '0.0045', 'PercentInsiders': '0.043', 'PercentInstitutions': '67.14', 'ForwardAnnualDividendRate': '0', 'ForwardAnnualDividendYield': '0', 'PayoutRatio': '0', 'DividendDate': 'None', 'ExDividendDate': 'None', 'LastSplitFactor': '10000000:1', 'LastSplitDate': '2015-04-27'}\n"
     ]
    }
   ],
   "source": [
    "url = 'https://www.alphavantage.co/query?function=OVERVIEW&symbol=GOOG&apikey='+key\n",
    "r = requests.get(url)\n",
    "data = r.json()\n",
    "\n",
    "print(data)"
   ]
  },
  {
   "cell_type": "code",
   "execution_count": null,
   "metadata": {},
   "outputs": [],
   "source": []
  }
 ],
 "metadata": {
  "kernelspec": {
   "display_name": "Python 3 (ipykernel)",
   "language": "python",
   "name": "python3"
  },
  "language_info": {
   "codemirror_mode": {
    "name": "ipython",
    "version": 3
   },
   "file_extension": ".py",
   "mimetype": "text/x-python",
   "name": "python",
   "nbconvert_exporter": "python",
   "pygments_lexer": "ipython3",
   "version": "3.9.7"
  }
 },
 "nbformat": 4,
 "nbformat_minor": 2
}
