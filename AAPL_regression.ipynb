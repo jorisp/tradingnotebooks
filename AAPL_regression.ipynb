{
 "cells": [
  {
   "cell_type": "code",
   "execution_count": 2,
   "metadata": {},
   "outputs": [],
   "source": [
    "import numpy as np \n",
    "import pandas as pd\n",
    "import datetime as dt\n",
    "import warnings\n",
    "import matplotlib.pyplot as plt\n",
    "from sklearn import linear_model\n",
    "from sklearn.metrics import mean_squared_error\n",
    "from sklearn.metrics import r2_score\n",
    "\n",
    "%matplotlib inline\n",
    "warnings.filterwarnings('ignore')\n"
   ]
  },
  {
   "cell_type": "code",
   "execution_count": 3,
   "metadata": {},
   "outputs": [
    {
     "name": "stdout",
     "output_type": "stream",
     "text": [
      "<class 'pandas.core.frame.DataFrame'>\n",
      "DatetimeIndex: 2517 entries, 2011-10-10 to 2021-10-08\n",
      "Data columns (total 6 columns):\n",
      " #   Column     Non-Null Count  Dtype  \n",
      "---  ------     --------------  -----  \n",
      " 0   Open       2517 non-null   float64\n",
      " 1   High       2517 non-null   float64\n",
      " 2   Low        2517 non-null   float64\n",
      " 3   Close      2517 non-null   float64\n",
      " 4   Adj Close  2517 non-null   float64\n",
      " 5   Volume     2517 non-null   int64  \n",
      "dtypes: float64(5), int64(1)\n",
      "memory usage: 137.6 KB\n"
     ]
    }
   ],
   "source": [
    "raw = pd.read_csv('data/aapl.csv',index_col=0, parse_dates=True)\n",
    "raw.info()"
   ]
  },
  {
   "cell_type": "code",
   "execution_count": 17,
   "metadata": {},
   "outputs": [],
   "source": [
    "data = (pd.DataFrame(raw['Close']).dropna())\n",
    "\n",
    "data['Lag1'] = data['Close'].shift(1)\n",
    "data['Lag2'] = data['Close'].shift(2)\n",
    "data['Lag3'] = data['Close'].shift(3)\n",
    "data['Lag4'] = data['Close'].shift(4)\n",
    "data['Min1Trend'] = np.where(data['Lag1'] - data['Lag2']>0,1,-1)\n",
    "data['Min2Trend'] = np.where(data['Lag2'] - data['Lag3']>0,1,-1)\n",
    "data['Min3Trend'] = np.where(data['Lag3'] - data['Lag4']>0,1,-1)\n",
    "data['Trend_3_day'] = np.where(data['Min1Trend']+data['Min2Trend']+data['Min3Trend']>0,1,-1)\n",
    "\n",
    "traindata = data[['Close','Lag1','Trend_3_day']]\n",
    "traindata.dropna(inplace=True)\n",
    "traindata.head(10)\n",
    "\n",
    "#traindata.plot(y='Close', figsize=(10,6))\n",
    "\n",
    "traindata.to_csv('data/aapl_features.csv')\n",
    "\n"
   ]
  },
  {
   "cell_type": "code",
   "execution_count": 7,
   "metadata": {},
   "outputs": [
    {
     "data": {
      "text/plain": [
       "(array([18567., 18628., 18687., 18748., 18809., 18871.]),\n",
       " [Text(0, 0, ''),\n",
       "  Text(0, 0, ''),\n",
       "  Text(0, 0, ''),\n",
       "  Text(0, 0, ''),\n",
       "  Text(0, 0, ''),\n",
       "  Text(0, 0, '')])"
      ]
     },
     "execution_count": 7,
     "metadata": {},
     "output_type": "execute_result"
    },
    {
     "data": {
      "image/png": "[encoded data removed]",
      "text/plain": [
       "<Figure size 432x288 with 1 Axes>"
      ]
     },
     "metadata": {
      "needs_background": "light"
     },
     "output_type": "display_data"
    }
   ],
   "source": [
    "start_date = '2020-10-01'\n",
    "end_date = '2021-10-01'\n",
    "if not 'Date' in traindata.columns:\n",
    "    traindata.insert(loc=0,column='Date',value=pd.to_datetime(traindata.index))\n",
    "\n",
    "plt.plot('Date','Close','k--',data=(traindata.loc[pd.to_datetime(traindata.Date).between(start_date,end_date)]))\n",
    "\n",
    "plt.scatter('Date','Close',color='b',label='pos trend',data=(\n",
    "    traindata.loc[traindata.Trend_3_day == 1 & pd.to_datetime(traindata.Date).between(start_date,end_date)]))\n",
    "\n",
    "#plt.scatter('Date','Close',color='r',label='neg trend',data=(\n",
    "#    traindata.loc[traindata.Trend_3_day == -1 & pd.to_datetime(traindata.Date).between(start_date,end_date)]))\n",
    "\n",
    "plt.legend()\n",
    "plt.xticks(rotation=90)\n"
   ]
  },
  {
   "cell_type": "code",
   "execution_count": 6,
   "metadata": {},
   "outputs": [],
   "source": [
    "features = ['Lag1','Trend_3_day']\n",
    "target= 'Close'\n",
    "data.info\n",
    "\n",
    "X_train, X_test = traindata.loc[:'2016-10-10',features] , traindata.loc['2016-10-10':,features]\n",
    "Y_train, Y_test = traindata.loc[:'2016-10-10',target],traindata.loc['2016-10-10':,target]\n",
    "#plt.plot(X_train,label='training set')\n",
    "#plt.plot(X_test,label='Test set',color='orange')\n",
    "#plt.legend()\n"
   ]
  },
  {
   "cell_type": "code",
   "execution_count": 8,
   "metadata": {},
   "outputs": [],
   "source": [
    "regr = linear_model.LinearRegression(fit_intercept=False)"
   ]
  },
  {
   "cell_type": "code",
   "execution_count": 9,
   "metadata": {},
   "outputs": [
    {
     "data": {
      "text/plain": [
       "LinearRegression(fit_intercept=False)"
      ]
     },
     "execution_count": 9,
     "metadata": {},
     "output_type": "execute_result"
    }
   ],
   "source": [
    "regr.fit(X_train,Y_train)"
   ]
  },
  {
   "cell_type": "code",
   "execution_count": 12,
   "metadata": {},
   "outputs": [],
   "source": [
    "Y_pred = regr.predict(X_test)"
   ]
  },
  {
   "cell_type": "code",
   "execution_count": 15,
   "metadata": {},
   "outputs": [
    {
     "name": "stdout",
     "output_type": "stream",
     "text": [
      "RMSE: {0:.2f} 1.5373596123754525\n",
      "Variance score: {0:.2f} 0.9982816542420694\n"
     ]
    }
   ],
   "source": [
    "print('RMSE: {0:.2f}',format(np.sqrt(mean_squared_error(Y_test,Y_pred))))\n",
    "print('Variance score: {0:.2f}',format(r2_score(Y_test,Y_pred)))"
   ]
  },
  {
   "cell_type": "code",
   "execution_count": 16,
   "metadata": {},
   "outputs": [
    {
     "data": {
      "text/plain": [
       "<matplotlib.legend.Legend at 0x26d560e4a00>"
      ]
     },
     "execution_count": 16,
     "metadata": {},
     "output_type": "execute_result"
    },
    {
     "data": {
      "image/png": "[encoded data removed]",
      "text/plain": [
       "<Figure size 432x288 with 1 Axes>"
      ]
     },
     "metadata": {
      "needs_background": "light"
     },
     "output_type": "display_data"
    }
   ],
   "source": [
    "plt.scatter(Y_test,Y_pred)\n",
    "plt.plot([140,240],[140,240],'r--',label='perfect fit')\n",
    "plt.xlabel('Actual')\n",
    "plt.ylabel('Predicted')\n",
    "plt.legend()"
   ]
  }
 ],
 "metadata": {
  "interpreter": {
   "hash": "9d49effa70c0a701feba72b01b0cb3bb116eeaace59b83695ff9541da895c0be"
  },
  "kernelspec": {
   "display_name": "Python 3.9.7 64-bit ('trading': conda)",
   "name": "python3"
  },
  "language_info": {
   "codemirror_mode": {
    "name": "ipython",
    "version": 3
   },
   "file_extension": ".py",
   "mimetype": "text/x-python",
   "name": "python",
   "nbconvert_exporter": "python",
   "pygments_lexer": "ipython3",
   "version": "3.9.7"
  },
  "orig_nbformat": 4
 },
 "nbformat": 4,
 "nbformat_minor": 2
}
