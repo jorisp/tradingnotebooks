{
    "cells": [
        {
            "cell_type": "code",
            "execution_count": 1,
            "metadata": {},
            "outputs": [],
            "source": [
                "from azure.storage.blob import BlobServiceClient, BlobClient,ContainerClient,__version__\n",
                "import os\n",
                "import io   \n",
                "import pandas as pd\n",
                "import numpy as np"
            ]
        },
        {
            "cell_type": "code",
            "execution_count": 2,
            "metadata": {},
            "outputs": [
                {
                    "data": {
                        "text/plain": [
                            "'12.11.0'"
                        ]
                    },
                    "execution_count": 2,
                    "metadata": {},
                    "output_type": "execute_result"
                }
            ],
            "source": [
                "__version__"
            ]
        },
        {
            "cell_type": "code",
            "execution_count": 3,
            "metadata": {},
            "outputs": [
                {
                    "name": "stdout",
                    "output_type": "stream",
                    "text": [
                        "https://jopxtradingstorage.blob.core.windows.net/demo\n"
                    ]
                }
            ],
            "source": [
                "connectionstring = os.getenv('AZURE_STORAGE_CONNECTION_STRING')\n",
                "blobcontainer = \"demo\"\n",
                "blob_service_client = BlobServiceClient.from_connection_string(connectionstring)\n",
                "container = blob_service_client.get_container_client(blobcontainer)\n",
                "print(container.url)"
            ]
        },
        {
            "cell_type": "code",
            "execution_count": 4,
            "metadata": {},
            "outputs": [
                {
                    "data": {
                        "text/html": [
                            "<div>\n",
                            "<style scoped>\n",
                            "    .dataframe tbody tr th:only-of-type {\n",
                            "        vertical-align: middle;\n",
                            "    }\n",
                            "\n",
                            "    .dataframe tbody tr th {\n",
                            "        vertical-align: top;\n",
                            "    }\n",
                            "\n",
                            "    .dataframe thead th {\n",
                            "        text-align: right;\n",
                            "    }\n",
                            "</style>\n",
                            "<table border=\"1\" class=\"dataframe\">\n",
                            "  <thead>\n",
                            "    <tr style=\"text-align: right;\">\n",
                            "      <th></th>\n",
                            "      <th>column1</th>\n",
                            "      <th>column2</th>\n",
                            "    </tr>\n",
                            "  </thead>\n",
                            "  <tbody>\n",
                            "    <tr>\n",
                            "      <th>row1</th>\n",
                            "      <td>1</td>\n",
                            "      <td>2</td>\n",
                            "    </tr>\n",
                            "    <tr>\n",
                            "      <th>row2</th>\n",
                            "      <td>3</td>\n",
                            "      <td>4</td>\n",
                            "    </tr>\n",
                            "  </tbody>\n",
                            "</table>\n",
                            "</div>"
                        ],
                        "text/plain": [
                            "      column1  column2\n",
                            "row1        1        2\n",
                            "row2        3        4"
                        ]
                    },
                    "execution_count": 4,
                    "metadata": {},
                    "output_type": "execute_result"
                }
            ],
            "source": [
                "#Create a sample dataframe\n",
                "np_sample = np.array([[1,2],[3,4]])\n",
                "df = pd.DataFrame(data=np_sample,index=[\"row1\",\"row2\"],columns=['column1','column2'])\n",
                "df.head()"
            ]
        },
        {
            "cell_type": "code",
            "execution_count": 5,
            "metadata": {},
            "outputs": [
                {
                    "data": {
                        "text/plain": [
                            "<azure.storage.blob._blob_client.BlobClient at 0x26f0fe9dbe0>"
                        ]
                    },
                    "execution_count": 5,
                    "metadata": {},
                    "output_type": "execute_result"
                }
            ],
            "source": [
                "#Create a csv from a dataframe and upload to blob storage\n",
                "upload_data = io.StringIO()\n",
                "upload_data = df.to_csv()\n",
                "container.upload_blob(data=upload_data,name='dfdemo.csv')"
            ]
        },
        {
            "cell_type": "code",
            "execution_count": 6,
            "metadata": {},
            "outputs": [
                {
                    "data": {
                        "text/html": [
                            "<div>\n",
                            "<style scoped>\n",
                            "    .dataframe tbody tr th:only-of-type {\n",
                            "        vertical-align: middle;\n",
                            "    }\n",
                            "\n",
                            "    .dataframe tbody tr th {\n",
                            "        vertical-align: top;\n",
                            "    }\n",
                            "\n",
                            "    .dataframe thead th {\n",
                            "        text-align: right;\n",
                            "    }\n",
                            "</style>\n",
                            "<table border=\"1\" class=\"dataframe\">\n",
                            "  <thead>\n",
                            "    <tr style=\"text-align: right;\">\n",
                            "      <th></th>\n",
                            "      <th>Unnamed: 0</th>\n",
                            "      <th>column1</th>\n",
                            "      <th>column2</th>\n",
                            "    </tr>\n",
                            "  </thead>\n",
                            "  <tbody>\n",
                            "    <tr>\n",
                            "      <th>0</th>\n",
                            "      <td>row1</td>\n",
                            "      <td>1</td>\n",
                            "      <td>2</td>\n",
                            "    </tr>\n",
                            "    <tr>\n",
                            "      <th>1</th>\n",
                            "      <td>row2</td>\n",
                            "      <td>3</td>\n",
                            "      <td>4</td>\n",
                            "    </tr>\n",
                            "  </tbody>\n",
                            "</table>\n",
                            "</div>"
                        ],
                        "text/plain": [
                            "  Unnamed: 0  column1  column2\n",
                            "0       row1        1        2\n",
                            "1       row2        3        4"
                        ]
                    },
                    "execution_count": 6,
                    "metadata": {},
                    "output_type": "execute_result"
                }
            ],
            "source": [
                "blob_stream = io.BytesIO(container.get_blob_client(blob='dfdemo.csv').download_blob().readall())\n",
                "dffromblob = pd.read_csv(blob_stream)\n",
                "dffromblob.head()"
            ]
        },
        {
            "cell_type": "code",
            "execution_count": 7,
            "metadata": {},
            "outputs": [],
            "source": [
                "def save_blob(file_name,file_content):\n",
                "        download_file_path = os.path.join('c:/temp',file_name)\n",
                "\n",
                "        with open(download_file_path, \"wb\") as file:\n",
                "            file.write(file_content)\n",
                "\n"
            ]
        },
        {
            "cell_type": "code",
            "execution_count": 8,
            "metadata": {},
            "outputs": [
                {
                    "name": "stdout",
                    "output_type": "stream",
                    "text": [
                        "dfdemo.csv\n"
                    ]
                }
            ],
            "source": [
                "my_blobs = container.list_blobs()\n",
                "\n",
                "for blob in my_blobs:\n",
                "        print (blob.name)\n",
                "        #Download the blob from Azure Storage\n",
                "        bytes = container.get_blob_client(blob).download_blob().readall()\n",
                "        save_blob(blob.name,bytes)"
            ]
        }
    ],
    "metadata": {
        "interpreter": {
            "hash": "211411554eaf391f3217a68215831dda76503b15a3625eab7f2272d6a7370b75"
        },
        "kernelspec": {
            "display_name": "Python 3.7.7 64-bit ('Trading': conda)",
            "name": "python3"
        },
        "language_info": {
            "codemirror_mode": {
                "name": "ipython",
                "version": 3
            },
            "file_extension": ".py",
            "mimetype": "text/x-python",
            "name": "python",
            "nbconvert_exporter": "python",
            "pygments_lexer": "ipython3",
            "version": "3.9.7"
        },
        "orig_nbformat": 4
    },
    "nbformat": 4,
    "nbformat_minor": 2
}
